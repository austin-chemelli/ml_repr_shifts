{
 "cells": [
  {
   "cell_type": "markdown",
   "metadata": {},
   "source": [
    "# Imports"
   ]
  },
  {
   "cell_type": "code",
   "execution_count": 1,
   "metadata": {},
   "outputs": [],
   "source": [
    "import pandas as pd"
   ]
  },
  {
   "cell_type": "markdown",
   "metadata": {},
   "source": [
    "# Dataset"
   ]
  },
  {
   "cell_type": "code",
   "execution_count": 2,
   "metadata": {},
   "outputs": [
    {
     "name": "stdout",
     "output_type": "stream",
     "text": [
      "    Group  Subject  Block        A1        A2        A3        A4        A5  \\\n",
      "0  Stress        1      1  0.666667  0.666667  0.833333  0.666667  0.666667   \n",
      "1  Stress        1      2  0.833333  0.666667  0.666667  0.666667  0.500000   \n",
      "2  Stress        1      3  0.333333  0.666667  0.333333  0.500000  0.833333   \n",
      "3  Stress        1      4  0.500000  0.666667  0.833333  0.500000  0.500000   \n",
      "4  Stress        1      5  0.833333  0.833333  0.500000  0.500000  0.500000   \n",
      "\n",
      "         A6        A7        B1        B2        B3        B4        B5  \\\n",
      "0  0.166667  0.166667  0.666667  0.833333  1.000000  0.333333  0.666667   \n",
      "1  0.333333  0.666667  0.500000  0.666667  0.500000  0.666667  0.666667   \n",
      "2  0.500000  0.500000  0.666667  0.333333  0.666667  0.166667  0.333333   \n",
      "3  0.666667  0.333333  0.666667  0.833333  0.833333  0.333333  0.333333   \n",
      "4  0.666667  0.666667  0.833333  0.500000  0.500000  0.833333  0.500000   \n",
      "\n",
      "         B6        B7       Avg  \n",
      "0  0.666667  0.333333  0.595238  \n",
      "1  0.333333  0.500000  0.583333  \n",
      "2  0.500000  0.500000  0.488095  \n",
      "3  0.500000  0.666667  0.583333  \n",
      "4  0.333333  0.666667  0.619048  \n"
     ]
    }
   ],
   "source": [
    "# Load the Excel file into a DataFrame\n",
    "file_path = \"JOCNPaulEtAl.xlsx\"\n",
    "data = pd.read_excel(file_path)\n",
    "\n",
    "# Display the first few rows of the dataset\n",
    "print(data.head())\n"
   ]
  },
  {
   "cell_type": "code",
   "execution_count": 3,
   "metadata": {},
   "outputs": [
    {
     "name": "stdout",
     "output_type": "stream",
     "text": [
      "<class 'pandas.core.frame.DataFrame'>\n",
      "RangeIndex: 160 entries, 0 to 159\n",
      "Data columns (total 18 columns):\n",
      " #   Column   Non-Null Count  Dtype  \n",
      "---  ------   --------------  -----  \n",
      " 0   Group    160 non-null    object \n",
      " 1   Subject  160 non-null    int64  \n",
      " 2   Block    160 non-null    int64  \n",
      " 3   A1       160 non-null    float64\n",
      " 4   A2       160 non-null    float64\n",
      " 5   A3       160 non-null    float64\n",
      " 6   A4       160 non-null    float64\n",
      " 7   A5       160 non-null    float64\n",
      " 8   A6       160 non-null    float64\n",
      " 9   A7       160 non-null    float64\n",
      " 10  B1       160 non-null    float64\n",
      " 11  B2       160 non-null    float64\n",
      " 12  B3       160 non-null    float64\n",
      " 13  B4       160 non-null    float64\n",
      " 14  B5       160 non-null    float64\n",
      " 15  B6       160 non-null    float64\n",
      " 16  B7       160 non-null    float64\n",
      " 17  Avg      160 non-null    float64\n",
      "dtypes: float64(15), int64(2), object(1)\n",
      "memory usage: 22.6+ KB\n",
      "None\n",
      "          Subject       Block          A1          A2          A3          A4  \\\n",
      "count  160.000000  160.000000  160.000000  160.000000  160.000000  160.000000   \n",
      "mean    23.531250    3.000000    0.752083    0.711458    0.659375    0.745833   \n",
      "std     12.861097    1.418654    0.256970    0.272629    0.263919    0.264978   \n",
      "min      1.000000    1.000000    0.000000    0.000000    0.000000    0.000000   \n",
      "25%     14.500000    2.000000    0.666667    0.500000    0.500000    0.500000   \n",
      "50%     22.500000    3.000000    0.833333    0.833333    0.666667    0.833333   \n",
      "75%     31.750000    4.000000    1.000000    1.000000    0.833333    1.000000   \n",
      "max     47.000000    5.000000    1.000000    1.000000    1.000000    1.000000   \n",
      "\n",
      "               A5          A6          A7          B1          B2          B3  \\\n",
      "count  160.000000  160.000000  160.000000  160.000000  160.000000  160.000000   \n",
      "mean     0.646875    0.713542    0.559375    0.763542    0.709375    0.676042   \n",
      "std      0.262608    0.264464    0.321241    0.246195    0.253037    0.279916   \n",
      "min      0.000000    0.000000    0.000000    0.000000    0.000000    0.000000   \n",
      "25%      0.500000    0.500000    0.333333    0.666667    0.500000    0.500000   \n",
      "50%      0.666667    0.666667    0.666667    0.833333    0.750000    0.666667   \n",
      "75%      0.833333    1.000000    0.833333    1.000000    1.000000    1.000000   \n",
      "max      1.000000    1.000000    1.000000    1.000000    1.000000    1.000000   \n",
      "\n",
      "               B4          B5          B6          B7         Avg  \n",
      "count  160.000000  160.000000  160.000000  160.000000  160.000000  \n",
      "mean     0.712500    0.683333    0.722917    0.457292    0.679539  \n",
      "std      0.257623    0.267765    0.266252    0.316806    0.159579  \n",
      "min      0.000000    0.000000    0.000000    0.000000    0.238095  \n",
      "25%      0.500000    0.500000    0.500000    0.166667    0.559524  \n",
      "50%      0.833333    0.666667    0.833333    0.500000    0.678571  \n",
      "75%      1.000000    1.000000    1.000000    0.666667    0.809524  \n",
      "max      1.000000    1.000000    1.000000    1.000000    0.988095  \n"
     ]
    }
   ],
   "source": [
    "# Check the columns and their types\n",
    "print(data.info())\n",
    "\n",
    "# Get summary statistics for numerical columns\n",
    "print(data.describe())"
   ]
  }
 ],
 "metadata": {
  "kernelspec": {
   "display_name": "base",
   "language": "python",
   "name": "python3"
  },
  "language_info": {
   "codemirror_mode": {
    "name": "ipython",
    "version": 3
   },
   "file_extension": ".py",
   "mimetype": "text/x-python",
   "name": "python",
   "nbconvert_exporter": "python",
   "pygments_lexer": "ipython3",
   "version": "3.12.4"
  }
 },
 "nbformat": 4,
 "nbformat_minor": 2
}
